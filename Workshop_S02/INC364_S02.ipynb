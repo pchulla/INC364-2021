{
 "cells": [
  {
   "cell_type": "code",
   "execution_count": 1,
   "id": "a3a59511",
   "metadata": {},
   "outputs": [
    {
     "data": {
      "text/plain": [
       "<matplotlib.legend.Legend at 0x259e30097c8>"
      ]
     },
     "execution_count": 1,
     "metadata": {},
     "output_type": "execute_result"
    },
    {
     "data": {
      "image/png": "[encoded data removed]",
      "text/plain": [
       "<Figure size 432x288 with 1 Axes>"
      ]
     },
     "metadata": {
      "needs_background": "light"
     },
     "output_type": "display_data"
    }
   ],
   "source": [
    "import numpy as np\n",
    "import matplotlib.pyplot as plt\n",
    "%matplotlib inline\n",
    "\n",
    "# Construct lines\n",
    "# x >= 0\n",
    "x = np.linspace(0, 20, 100000)\n",
    "# y >= 0\n",
    "y1 = (x*0)\n",
    "# x + y >= 5\n",
    "y2 = 5 - x\n",
    "# 3x + 2y >= 12\n",
    "y3 = (12 - 3*x)/2.0\n",
    "# 3x + 6y >= 18\n",
    "y4 = (18 - 3*x)/6.0\n",
    "\n",
    "# Make plot\n",
    "plt.plot(x, y1, label=r'$y\\geq0$')\n",
    "plt.plot(x, y2, label=r'$x+y\\geq5$')\n",
    "plt.plot(x, y3, label=r'$3x+2y\\geq12$')\n",
    "plt.plot(x, y4, label=r'$3x+6y\\geq18$')\n",
    "plt.xlim((0, 8))\n",
    "plt.ylim((0, 8))\n",
    "plt.xlabel(r'$x$')\n",
    "plt.ylabel(r'$y$')\n",
    "\n",
    "# Fill feasible region\n",
    "y5 = np.maximum(y2, y3)\n",
    "y6 = np.maximum(y5, y4)\n",
    "plt.fill_between(x, y6, 10, where=None, color='blue', alpha=0.3)\n",
    "plt.legend(bbox_to_anchor=(1.05, 1), loc=2, borderaxespad=0.)"
   ]
  },
  {
   "cell_type": "code",
   "execution_count": 2,
   "id": "0c09140c",
   "metadata": {},
   "outputs": [],
   "source": [
    "# Identify intersections\n",
    "idx2 = np.argwhere(np.isclose(y2, y3, atol=1e-4) == True)[0][0]\n",
    "idx3 = np.argwhere(np.isclose(y2, y4, atol=1e-4) == True)[0][0]\n",
    "idx4 = np.argwhere(np.isclose(y1, y4, atol=1e-4) == True)[0][0]\n",
    "intersec_1 = (np.round(x[0]), np.round(y3[0]))\n",
    "intersec_2 = (np.round(x[idx2]), np.round(y2[idx2]))\n",
    "intersec_3 = (np.round(x[idx3]), np.round(y2[idx3]))\n",
    "intersec_4 = (np.round(x[idx4]), np.round(y1[idx4]))\n",
    "\n",
    "# Declare cost function\n",
    "def cost_function(x, y):\n",
    "    J = 25*x + 22*y\n",
    "    return J\n",
    "\n",
    "# Identify cost for each intersection\n",
    "cost_1 = cost_function(*intersec_1)\n",
    "cost_2 = cost_function(*intersec_2)\n",
    "cost_3 = cost_function(*intersec_3)\n",
    "cost_4 = cost_function(*intersec_4)\n",
    "\n",
    "# Create list of intersections and costs\n",
    "work_hours = [intersec_1, intersec_2, intersec_3, intersec_4]\n",
    "costs = [cost_1, cost_2, cost_3, cost_4]\n",
    "\n",
    "# Find the optimal solution\n",
    "lowest_idx = np.argmin(costs)\n",
    "optimal_cost = costs[lowest_idx]\n",
    "optimal_work_hour = work_hours[lowest_idx]"
   ]
  },
  {
   "cell_type": "code",
   "execution_count": 3,
   "id": "8320de72",
   "metadata": {},
   "outputs": [
    {
     "name": "stdout",
     "output_type": "stream",
     "text": [
      "(0.0, 6.0) 132.0\n",
      "(2.0, 3.0) 116.0\n",
      "(4.0, 1.0) 122.0\n",
      "(6.0, 0.0) 150.0\n",
      "\n",
      "Optimal working hours for x and y: (2.0, 3.0)\n",
      "The lowest manpower cost: 116.0 Baht\n"
     ]
    }
   ],
   "source": [
    "print(intersec_1, cost_1)\n",
    "print(intersec_2, cost_2)\n",
    "print(intersec_3, cost_3)\n",
    "print(intersec_4, cost_4)\n",
    "print(\"\")\n",
    "print(\"Optimal working hours for x and y:\", optimal_work_hour)\n",
    "print(\"The lowest manpower cost:\", optimal_cost, \"Baht\")"
   ]
  }
 ],
 "metadata": {
  "kernelspec": {
   "display_name": "Python 3 (ipykernel)",
   "language": "python",
   "name": "python3"
  },
  "language_info": {
   "codemirror_mode": {
    "name": "ipython",
    "version": 3
   },
   "file_extension": ".py",
   "mimetype": "text/x-python",
   "name": "python",
   "nbconvert_exporter": "python",
   "pygments_lexer": "ipython3",
   "version": "3.9.7"
  }
 },
 "nbformat": 4,
 "nbformat_minor": 5
}
